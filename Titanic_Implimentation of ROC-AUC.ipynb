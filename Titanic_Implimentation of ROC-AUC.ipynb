{
 "cells": [
  {
   "cell_type": "code",
   "execution_count": 1,
   "id": "bf40737c",
   "metadata": {},
   "outputs": [],
   "source": [
    "import pandas as pd\n",
    "import matplotlib.pyplot as plt\n",
    "import numpy as np\n",
    "from sklearn.linear_model import LogisticRegression"
   ]
  },
  {
   "cell_type": "code",
   "execution_count": 2,
   "id": "058b6baf",
   "metadata": {},
   "outputs": [],
   "source": [
    "df = pd.read_csv(\"Titanic.csv\")"
   ]
  },
  {
   "cell_type": "code",
   "execution_count": 3,
   "id": "27067029",
   "metadata": {},
   "outputs": [
    {
     "data": {
      "text/html": [
       "<div>\n",
       "<style scoped>\n",
       "    .dataframe tbody tr th:only-of-type {\n",
       "        vertical-align: middle;\n",
       "    }\n",
       "\n",
       "    .dataframe tbody tr th {\n",
       "        vertical-align: top;\n",
       "    }\n",
       "\n",
       "    .dataframe thead th {\n",
       "        text-align: right;\n",
       "    }\n",
       "</style>\n",
       "<table border=\"1\" class=\"dataframe\">\n",
       "  <thead>\n",
       "    <tr style=\"text-align: right;\">\n",
       "      <th></th>\n",
       "      <th>sex</th>\n",
       "      <th>age</th>\n",
       "      <th>sibsp</th>\n",
       "      <th>parch</th>\n",
       "      <th>fare</th>\n",
       "      <th>embarked</th>\n",
       "      <th>class</th>\n",
       "      <th>who</th>\n",
       "      <th>alone</th>\n",
       "      <th>survived</th>\n",
       "    </tr>\n",
       "  </thead>\n",
       "  <tbody>\n",
       "    <tr>\n",
       "      <th>0</th>\n",
       "      <td>male</td>\n",
       "      <td>22.0</td>\n",
       "      <td>1</td>\n",
       "      <td>0</td>\n",
       "      <td>7.2500</td>\n",
       "      <td>S</td>\n",
       "      <td>Third</td>\n",
       "      <td>man</td>\n",
       "      <td>False</td>\n",
       "      <td>0</td>\n",
       "    </tr>\n",
       "    <tr>\n",
       "      <th>1</th>\n",
       "      <td>female</td>\n",
       "      <td>38.0</td>\n",
       "      <td>1</td>\n",
       "      <td>0</td>\n",
       "      <td>71.2833</td>\n",
       "      <td>C</td>\n",
       "      <td>First</td>\n",
       "      <td>woman</td>\n",
       "      <td>False</td>\n",
       "      <td>1</td>\n",
       "    </tr>\n",
       "    <tr>\n",
       "      <th>2</th>\n",
       "      <td>female</td>\n",
       "      <td>26.0</td>\n",
       "      <td>0</td>\n",
       "      <td>0</td>\n",
       "      <td>7.9250</td>\n",
       "      <td>S</td>\n",
       "      <td>Third</td>\n",
       "      <td>woman</td>\n",
       "      <td>True</td>\n",
       "      <td>1</td>\n",
       "    </tr>\n",
       "    <tr>\n",
       "      <th>3</th>\n",
       "      <td>female</td>\n",
       "      <td>35.0</td>\n",
       "      <td>1</td>\n",
       "      <td>0</td>\n",
       "      <td>53.1000</td>\n",
       "      <td>S</td>\n",
       "      <td>First</td>\n",
       "      <td>woman</td>\n",
       "      <td>False</td>\n",
       "      <td>1</td>\n",
       "    </tr>\n",
       "    <tr>\n",
       "      <th>4</th>\n",
       "      <td>male</td>\n",
       "      <td>35.0</td>\n",
       "      <td>0</td>\n",
       "      <td>0</td>\n",
       "      <td>8.0500</td>\n",
       "      <td>S</td>\n",
       "      <td>Third</td>\n",
       "      <td>man</td>\n",
       "      <td>True</td>\n",
       "      <td>0</td>\n",
       "    </tr>\n",
       "  </tbody>\n",
       "</table>\n",
       "</div>"
      ],
      "text/plain": [
       "      sex   age  sibsp  parch     fare embarked  class    who  alone  survived\n",
       "0    male  22.0      1      0   7.2500        S  Third    man  False         0\n",
       "1  female  38.0      1      0  71.2833        C  First  woman  False         1\n",
       "2  female  26.0      0      0   7.9250        S  Third  woman   True         1\n",
       "3  female  35.0      1      0  53.1000        S  First  woman  False         1\n",
       "4    male  35.0      0      0   8.0500        S  Third    man   True         0"
      ]
     },
     "execution_count": 3,
     "metadata": {},
     "output_type": "execute_result"
    }
   ],
   "source": [
    "df.head()"
   ]
  },
  {
   "cell_type": "code",
   "execution_count": 4,
   "id": "c7e3c78a",
   "metadata": {},
   "outputs": [
    {
     "data": {
      "text/plain": [
       "sex           0\n",
       "age         177\n",
       "sibsp         0\n",
       "parch         0\n",
       "fare          0\n",
       "embarked      2\n",
       "class         0\n",
       "who           0\n",
       "alone         0\n",
       "survived      0\n",
       "dtype: int64"
      ]
     },
     "execution_count": 4,
     "metadata": {},
     "output_type": "execute_result"
    }
   ],
   "source": [
    "df.isna().sum()"
   ]
  },
  {
   "cell_type": "code",
   "execution_count": 5,
   "id": "95eae41a",
   "metadata": {},
   "outputs": [
    {
     "name": "stderr",
     "output_type": "stream",
     "text": [
      "C:\\Users\\hp\\AppData\\Local\\Temp\\ipykernel_8772\\820435583.py:1: FutureWarning: Dropping of nuisance columns in DataFrame reductions (with 'numeric_only=None') is deprecated; in a future version this will raise TypeError.  Select only valid columns before calling the reduction.\n",
      "  df.fillna(df.mean(), inplace=True)\n"
     ]
    }
   ],
   "source": [
    "df.fillna(df.mean(), inplace=True)"
   ]
  },
  {
   "cell_type": "code",
   "execution_count": 6,
   "id": "7b4d3d0c",
   "metadata": {},
   "outputs": [
    {
     "data": {
      "text/plain": [
       "sex         0\n",
       "age         0\n",
       "sibsp       0\n",
       "parch       0\n",
       "fare        0\n",
       "embarked    2\n",
       "class       0\n",
       "who         0\n",
       "alone       0\n",
       "survived    0\n",
       "dtype: int64"
      ]
     },
     "execution_count": 6,
     "metadata": {},
     "output_type": "execute_result"
    }
   ],
   "source": [
    "df.isna().sum()"
   ]
  },
  {
   "cell_type": "code",
   "execution_count": 7,
   "id": "ec7cb0f8",
   "metadata": {},
   "outputs": [],
   "source": [
    "df.dropna(inplace=True)"
   ]
  },
  {
   "cell_type": "code",
   "execution_count": 8,
   "id": "593b96cd",
   "metadata": {},
   "outputs": [
    {
     "data": {
      "text/plain": [
       "sex         0\n",
       "age         0\n",
       "sibsp       0\n",
       "parch       0\n",
       "fare        0\n",
       "embarked    0\n",
       "class       0\n",
       "who         0\n",
       "alone       0\n",
       "survived    0\n",
       "dtype: int64"
      ]
     },
     "execution_count": 8,
     "metadata": {},
     "output_type": "execute_result"
    }
   ],
   "source": [
    "df.isna().sum()"
   ]
  },
  {
   "cell_type": "code",
   "execution_count": 9,
   "id": "e90c7b87",
   "metadata": {},
   "outputs": [],
   "source": [
    "from sklearn.preprocessing import LabelEncoder"
   ]
  },
  {
   "cell_type": "code",
   "execution_count": 10,
   "id": "01574f41",
   "metadata": {},
   "outputs": [
    {
     "data": {
      "text/plain": [
       "Index(['sex', 'age', 'sibsp', 'parch', 'fare', 'embarked', 'class', 'who',\n",
       "       'alone', 'survived'],\n",
       "      dtype='object')"
      ]
     },
     "execution_count": 10,
     "metadata": {},
     "output_type": "execute_result"
    }
   ],
   "source": [
    "df.columns"
   ]
  },
  {
   "cell_type": "code",
   "execution_count": 11,
   "id": "6d677eed",
   "metadata": {},
   "outputs": [],
   "source": [
    "cols = ['sex', 'embarked', 'class', 'who', 'alone']"
   ]
  },
  {
   "cell_type": "code",
   "execution_count": 12,
   "id": "8a69f668",
   "metadata": {},
   "outputs": [],
   "source": [
    "for i in cols:\n",
    "    le = LabelEncoder()\n",
    "    a = le.fit_transform(df[i])\n",
    "    df[i] = a"
   ]
  },
  {
   "cell_type": "code",
   "execution_count": 13,
   "id": "d915a5c6",
   "metadata": {},
   "outputs": [
    {
     "data": {
      "text/html": [
       "<div>\n",
       "<style scoped>\n",
       "    .dataframe tbody tr th:only-of-type {\n",
       "        vertical-align: middle;\n",
       "    }\n",
       "\n",
       "    .dataframe tbody tr th {\n",
       "        vertical-align: top;\n",
       "    }\n",
       "\n",
       "    .dataframe thead th {\n",
       "        text-align: right;\n",
       "    }\n",
       "</style>\n",
       "<table border=\"1\" class=\"dataframe\">\n",
       "  <thead>\n",
       "    <tr style=\"text-align: right;\">\n",
       "      <th></th>\n",
       "      <th>sex</th>\n",
       "      <th>age</th>\n",
       "      <th>sibsp</th>\n",
       "      <th>parch</th>\n",
       "      <th>fare</th>\n",
       "      <th>embarked</th>\n",
       "      <th>class</th>\n",
       "      <th>who</th>\n",
       "      <th>alone</th>\n",
       "      <th>survived</th>\n",
       "    </tr>\n",
       "  </thead>\n",
       "  <tbody>\n",
       "    <tr>\n",
       "      <th>0</th>\n",
       "      <td>1</td>\n",
       "      <td>22.0</td>\n",
       "      <td>1</td>\n",
       "      <td>0</td>\n",
       "      <td>7.2500</td>\n",
       "      <td>2</td>\n",
       "      <td>2</td>\n",
       "      <td>1</td>\n",
       "      <td>0</td>\n",
       "      <td>0</td>\n",
       "    </tr>\n",
       "    <tr>\n",
       "      <th>1</th>\n",
       "      <td>0</td>\n",
       "      <td>38.0</td>\n",
       "      <td>1</td>\n",
       "      <td>0</td>\n",
       "      <td>71.2833</td>\n",
       "      <td>0</td>\n",
       "      <td>0</td>\n",
       "      <td>2</td>\n",
       "      <td>0</td>\n",
       "      <td>1</td>\n",
       "    </tr>\n",
       "    <tr>\n",
       "      <th>2</th>\n",
       "      <td>0</td>\n",
       "      <td>26.0</td>\n",
       "      <td>0</td>\n",
       "      <td>0</td>\n",
       "      <td>7.9250</td>\n",
       "      <td>2</td>\n",
       "      <td>2</td>\n",
       "      <td>2</td>\n",
       "      <td>1</td>\n",
       "      <td>1</td>\n",
       "    </tr>\n",
       "    <tr>\n",
       "      <th>3</th>\n",
       "      <td>0</td>\n",
       "      <td>35.0</td>\n",
       "      <td>1</td>\n",
       "      <td>0</td>\n",
       "      <td>53.1000</td>\n",
       "      <td>2</td>\n",
       "      <td>0</td>\n",
       "      <td>2</td>\n",
       "      <td>0</td>\n",
       "      <td>1</td>\n",
       "    </tr>\n",
       "    <tr>\n",
       "      <th>4</th>\n",
       "      <td>1</td>\n",
       "      <td>35.0</td>\n",
       "      <td>0</td>\n",
       "      <td>0</td>\n",
       "      <td>8.0500</td>\n",
       "      <td>2</td>\n",
       "      <td>2</td>\n",
       "      <td>1</td>\n",
       "      <td>1</td>\n",
       "      <td>0</td>\n",
       "    </tr>\n",
       "  </tbody>\n",
       "</table>\n",
       "</div>"
      ],
      "text/plain": [
       "   sex   age  sibsp  parch     fare  embarked  class  who  alone  survived\n",
       "0    1  22.0      1      0   7.2500         2      2    1      0         0\n",
       "1    0  38.0      1      0  71.2833         0      0    2      0         1\n",
       "2    0  26.0      0      0   7.9250         2      2    2      1         1\n",
       "3    0  35.0      1      0  53.1000         2      0    2      0         1\n",
       "4    1  35.0      0      0   8.0500         2      2    1      1         0"
      ]
     },
     "execution_count": 13,
     "metadata": {},
     "output_type": "execute_result"
    }
   ],
   "source": [
    "df.head()"
   ]
  },
  {
   "cell_type": "code",
   "execution_count": 14,
   "id": "74fede16",
   "metadata": {},
   "outputs": [],
   "source": [
    "X = df.drop(\"survived\", axis = 1)\n",
    "y = df.survived"
   ]
  },
  {
   "cell_type": "code",
   "execution_count": 15,
   "id": "50101bc1",
   "metadata": {},
   "outputs": [],
   "source": [
    "from sklearn.model_selection import train_test_split"
   ]
  },
  {
   "cell_type": "code",
   "execution_count": 16,
   "id": "90e1fc90",
   "metadata": {},
   "outputs": [],
   "source": [
    "X_train, X_test, y_train, y_test = train_test_split(X, y, train_size=0.8)"
   ]
  },
  {
   "cell_type": "code",
   "execution_count": 17,
   "id": "096d36ae",
   "metadata": {},
   "outputs": [],
   "source": [
    "model = LogisticRegression()"
   ]
  },
  {
   "cell_type": "code",
   "execution_count": 18,
   "id": "8cb9ac0d",
   "metadata": {},
   "outputs": [
    {
     "name": "stderr",
     "output_type": "stream",
     "text": [
      "C:\\Users\\hp\\anaconda3\\lib\\site-packages\\sklearn\\linear_model\\_logistic.py:814: ConvergenceWarning: lbfgs failed to converge (status=1):\n",
      "STOP: TOTAL NO. of ITERATIONS REACHED LIMIT.\n",
      "\n",
      "Increase the number of iterations (max_iter) or scale the data as shown in:\n",
      "    https://scikit-learn.org/stable/modules/preprocessing.html\n",
      "Please also refer to the documentation for alternative solver options:\n",
      "    https://scikit-learn.org/stable/modules/linear_model.html#logistic-regression\n",
      "  n_iter_i = _check_optimize_result(\n"
     ]
    },
    {
     "data": {
      "text/plain": [
       "LogisticRegression()"
      ]
     },
     "execution_count": 18,
     "metadata": {},
     "output_type": "execute_result"
    }
   ],
   "source": [
    "model.fit(X_train, y_train)"
   ]
  },
  {
   "cell_type": "code",
   "execution_count": 19,
   "id": "1a5906c9",
   "metadata": {},
   "outputs": [],
   "source": [
    "y_pred = model.predict_proba(X_test)"
   ]
  },
  {
   "cell_type": "code",
   "execution_count": 20,
   "id": "b17e8d63",
   "metadata": {},
   "outputs": [
    {
     "data": {
      "text/plain": [
       "array([[0.55413764, 0.44586236],\n",
       "       [0.90346337, 0.09653663],\n",
       "       [0.70271971, 0.29728029],\n",
       "       [0.71612627, 0.28387373],\n",
       "       [0.06787979, 0.93212021],\n",
       "       [0.30828769, 0.69171231],\n",
       "       [0.67387012, 0.32612988],\n",
       "       [0.85954973, 0.14045027],\n",
       "       [0.13482489, 0.86517511],\n",
       "       [0.93545568, 0.06454432],\n",
       "       [0.88536336, 0.11463664],\n",
       "       [0.29046478, 0.70953522],\n",
       "       [0.73116666, 0.26883334],\n",
       "       [0.81096138, 0.18903862],\n",
       "       [0.10635385, 0.89364615],\n",
       "       [0.75001218, 0.24998782],\n",
       "       [0.94161519, 0.05838481],\n",
       "       [0.86944202, 0.13055798],\n",
       "       [0.88981953, 0.11018047],\n",
       "       [0.34350536, 0.65649464],\n",
       "       [0.18104889, 0.81895111],\n",
       "       [0.08541542, 0.91458458],\n",
       "       [0.43425973, 0.56574027],\n",
       "       [0.62314741, 0.37685259],\n",
       "       [0.41576221, 0.58423779],\n",
       "       [0.10838139, 0.89161861],\n",
       "       [0.0903686 , 0.9096314 ],\n",
       "       [0.84935648, 0.15064352],\n",
       "       [0.73481916, 0.26518084],\n",
       "       [0.85885787, 0.14114213],\n",
       "       [0.88446185, 0.11553815],\n",
       "       [0.56579377, 0.43420623],\n",
       "       [0.04997091, 0.95002909],\n",
       "       [0.96072936, 0.03927064],\n",
       "       [0.72387698, 0.27612302],\n",
       "       [0.76588528, 0.23411472],\n",
       "       [0.83050439, 0.16949561],\n",
       "       [0.21161257, 0.78838743],\n",
       "       [0.73053629, 0.26946371],\n",
       "       [0.88735591, 0.11264409],\n",
       "       [0.63679942, 0.36320058],\n",
       "       [0.91114122, 0.08885878],\n",
       "       [0.41481738, 0.58518262],\n",
       "       [0.05613606, 0.94386394],\n",
       "       [0.93628619, 0.06371381],\n",
       "       [0.09781649, 0.90218351],\n",
       "       [0.86882311, 0.13117689],\n",
       "       [0.86824135, 0.13175865],\n",
       "       [0.87073371, 0.12926629],\n",
       "       [0.92030446, 0.07969554],\n",
       "       [0.82136262, 0.17863738],\n",
       "       [0.04812674, 0.95187326],\n",
       "       [0.2603355 , 0.7396645 ],\n",
       "       [0.92042649, 0.07957351],\n",
       "       [0.47611037, 0.52388963],\n",
       "       [0.17428626, 0.82571374],\n",
       "       [0.94909552, 0.05090448],\n",
       "       [0.66410006, 0.33589994],\n",
       "       [0.90104406, 0.09895594],\n",
       "       [0.86884609, 0.13115391],\n",
       "       [0.86904205, 0.13095795],\n",
       "       [0.29616142, 0.70383858],\n",
       "       [0.93123243, 0.06876757],\n",
       "       [0.80700608, 0.19299392],\n",
       "       [0.43804567, 0.56195433],\n",
       "       [0.65875726, 0.34124274],\n",
       "       [0.3671226 , 0.6328774 ],\n",
       "       [0.95090094, 0.04909906],\n",
       "       [0.37454677, 0.62545323],\n",
       "       [0.40814638, 0.59185362],\n",
       "       [0.34184545, 0.65815455],\n",
       "       [0.8544984 , 0.1455016 ],\n",
       "       [0.54365609, 0.45634391],\n",
       "       [0.46211397, 0.53788603],\n",
       "       [0.57458354, 0.42541646],\n",
       "       [0.90342507, 0.09657493],\n",
       "       [0.37051462, 0.62948538],\n",
       "       [0.86220172, 0.13779828],\n",
       "       [0.86191506, 0.13808494],\n",
       "       [0.38492779, 0.61507221],\n",
       "       [0.65995686, 0.34004314],\n",
       "       [0.07349467, 0.92650533],\n",
       "       [0.87681214, 0.12318786],\n",
       "       [0.05705547, 0.94294453],\n",
       "       [0.88446185, 0.11553815],\n",
       "       [0.89741282, 0.10258718],\n",
       "       [0.85950819, 0.14049181],\n",
       "       [0.7712747 , 0.2287253 ],\n",
       "       [0.59999146, 0.40000854],\n",
       "       [0.66977341, 0.33022659],\n",
       "       [0.76461359, 0.23538641],\n",
       "       [0.86989934, 0.13010066],\n",
       "       [0.88615102, 0.11384898],\n",
       "       [0.90346337, 0.09653663],\n",
       "       [0.06270925, 0.93729075],\n",
       "       [0.34172777, 0.65827223],\n",
       "       [0.80036252, 0.19963748],\n",
       "       [0.82150905, 0.17849095],\n",
       "       [0.90346337, 0.09653663],\n",
       "       [0.87022323, 0.12977677],\n",
       "       [0.68296761, 0.31703239],\n",
       "       [0.93852951, 0.06147049],\n",
       "       [0.91114122, 0.08885878],\n",
       "       [0.80296608, 0.19703392],\n",
       "       [0.13333222, 0.86666778],\n",
       "       [0.91114122, 0.08885878],\n",
       "       [0.5774179 , 0.4225821 ],\n",
       "       [0.85950819, 0.14049181],\n",
       "       [0.88986258, 0.11013742],\n",
       "       [0.02992424, 0.97007576],\n",
       "       [0.69435313, 0.30564687],\n",
       "       [0.21607115, 0.78392885],\n",
       "       [0.29106485, 0.70893515],\n",
       "       [0.08024062, 0.91975938],\n",
       "       [0.86886504, 0.13113496],\n",
       "       [0.92030446, 0.07969554],\n",
       "       [0.18104889, 0.81895111],\n",
       "       [0.86379308, 0.13620692],\n",
       "       [0.75001218, 0.24998782],\n",
       "       [0.11072488, 0.88927512],\n",
       "       [0.85497035, 0.14502965],\n",
       "       [0.17012833, 0.82987167],\n",
       "       [0.90790711, 0.09209289],\n",
       "       [0.87324602, 0.12675398],\n",
       "       [0.73837527, 0.26162473],\n",
       "       [0.05154214, 0.94845786],\n",
       "       [0.85872398, 0.14127602],\n",
       "       [0.9099758 , 0.0900242 ],\n",
       "       [0.91431248, 0.08568752],\n",
       "       [0.94515701, 0.05484299],\n",
       "       [0.17644074, 0.82355926],\n",
       "       [0.42697546, 0.57302454],\n",
       "       [0.88159283, 0.11840717],\n",
       "       [0.964305  , 0.035695  ],\n",
       "       [0.69321194, 0.30678806],\n",
       "       [0.90327276, 0.09672724],\n",
       "       [0.84991589, 0.15008411],\n",
       "       [0.1115084 , 0.8884916 ],\n",
       "       [0.68900521, 0.31099479],\n",
       "       [0.9198645 , 0.0801355 ],\n",
       "       [0.91114796, 0.08885204],\n",
       "       [0.81803958, 0.18196042],\n",
       "       [0.91767623, 0.08232377],\n",
       "       [0.22146842, 0.77853158],\n",
       "       [0.8937238 , 0.1062762 ],\n",
       "       [0.77143831, 0.22856169],\n",
       "       [0.41729803, 0.58270197],\n",
       "       [0.04664406, 0.95335594],\n",
       "       [0.62756087, 0.37243913],\n",
       "       [0.89069893, 0.10930107],\n",
       "       [0.87060067, 0.12939933],\n",
       "       [0.69395199, 0.30604801],\n",
       "       [0.90342507, 0.09657493],\n",
       "       [0.10629782, 0.89370218],\n",
       "       [0.85469305, 0.14530695],\n",
       "       [0.61034665, 0.38965335],\n",
       "       [0.12453582, 0.87546418],\n",
       "       [0.71650921, 0.28349079],\n",
       "       [0.18331112, 0.81668888],\n",
       "       [0.8666338 , 0.1333662 ],\n",
       "       [0.42482959, 0.57517041],\n",
       "       [0.24061935, 0.75938065],\n",
       "       [0.2162402 , 0.7837598 ],\n",
       "       [0.30055453, 0.69944547],\n",
       "       [0.91011031, 0.08988969],\n",
       "       [0.82595635, 0.17404365],\n",
       "       [0.68038976, 0.31961024],\n",
       "       [0.29160521, 0.70839479],\n",
       "       [0.89069893, 0.10930107],\n",
       "       [0.86241708, 0.13758292],\n",
       "       [0.35232527, 0.64767473],\n",
       "       [0.92783659, 0.07216341],\n",
       "       [0.33446529, 0.66553471],\n",
       "       [0.86383083, 0.13616917],\n",
       "       [0.13957304, 0.86042696],\n",
       "       [0.43890423, 0.56109577],\n",
       "       [0.57075027, 0.42924973],\n",
       "       [0.73481916, 0.26518084]])"
      ]
     },
     "execution_count": 20,
     "metadata": {},
     "output_type": "execute_result"
    }
   ],
   "source": [
    "y_pred"
   ]
  },
  {
   "cell_type": "code",
   "execution_count": 21,
   "id": "d0a81ecd",
   "metadata": {},
   "outputs": [],
   "source": [
    "from sklearn.metrics import roc_auc_score, roc_curve"
   ]
  },
  {
   "cell_type": "code",
   "execution_count": 22,
   "id": "d524aa99",
   "metadata": {},
   "outputs": [],
   "source": [
    "fpr, tpr, th = roc_curve(y_test, y_pred[:,1], pos_label=1)"
   ]
  },
  {
   "cell_type": "code",
   "execution_count": 23,
   "id": "885cf8ed",
   "metadata": {},
   "outputs": [
    {
     "data": {
      "text/plain": [
       "array([0.        , 0.        , 0.        , 0.00909091, 0.00909091,\n",
       "       0.00909091, 0.00909091, 0.01818182, 0.01818182, 0.02727273,\n",
       "       0.02727273, 0.04545455, 0.04545455, 0.05454545, 0.05454545,\n",
       "       0.08181818, 0.08181818, 0.10909091, 0.10909091, 0.14545455,\n",
       "       0.14545455, 0.15454545, 0.15454545, 0.17272727, 0.17272727,\n",
       "       0.18181818, 0.18181818, 0.2       , 0.2       , 0.23636364,\n",
       "       0.23636364, 0.27272727, 0.27272727, 0.3       , 0.31818182,\n",
       "       0.31818182, 0.33636364, 0.34545455, 0.34545455, 0.37272727,\n",
       "       0.37272727, 0.41818182, 0.41818182, 0.48181818, 0.48181818,\n",
       "       0.5       , 0.59090909, 0.59090909, 0.66363636, 0.66363636,\n",
       "       0.68181818, 0.72727273, 0.73636364, 0.73636364, 0.76363636,\n",
       "       0.78181818, 0.80909091, 0.81818182, 0.81818182, 0.82727273,\n",
       "       0.84545455, 0.88181818, 0.9       , 0.91818182, 0.91818182,\n",
       "       1.        ])"
      ]
     },
     "execution_count": 23,
     "metadata": {},
     "output_type": "execute_result"
    }
   ],
   "source": [
    "fpr"
   ]
  },
  {
   "cell_type": "code",
   "execution_count": 24,
   "id": "f741bb4a",
   "metadata": {},
   "outputs": [
    {
     "data": {
      "text/plain": [
       "array([0.        , 0.01470588, 0.29411765, 0.29411765, 0.36764706,\n",
       "       0.39705882, 0.42647059, 0.42647059, 0.5       , 0.5       ,\n",
       "       0.52941176, 0.52941176, 0.55882353, 0.55882353, 0.60294118,\n",
       "       0.60294118, 0.61764706, 0.61764706, 0.67647059, 0.67647059,\n",
       "       0.69117647, 0.69117647, 0.72058824, 0.72058824, 0.73529412,\n",
       "       0.73529412, 0.77941176, 0.77941176, 0.79411765, 0.79411765,\n",
       "       0.80882353, 0.80882353, 0.82352941, 0.82352941, 0.82352941,\n",
       "       0.83823529, 0.83823529, 0.83823529, 0.85294118, 0.85294118,\n",
       "       0.86764706, 0.86764706, 0.88235294, 0.88235294, 0.89705882,\n",
       "       0.89705882, 0.89705882, 0.91176471, 0.91176471, 0.92647059,\n",
       "       0.92647059, 0.92647059, 0.94117647, 0.95588235, 0.95588235,\n",
       "       0.95588235, 0.95588235, 0.95588235, 0.97058824, 0.97058824,\n",
       "       0.98529412, 0.98529412, 0.98529412, 0.98529412, 1.        ,\n",
       "       1.        ])"
      ]
     },
     "execution_count": 24,
     "metadata": {},
     "output_type": "execute_result"
    }
   ],
   "source": [
    "tpr"
   ]
  },
  {
   "cell_type": "code",
   "execution_count": 25,
   "id": "9635755a",
   "metadata": {},
   "outputs": [
    {
     "data": {
      "text/plain": [
       "array([1.97007576, 0.97007576, 0.87546418, 0.86666778, 0.82355926,\n",
       "       0.81895111, 0.78838743, 0.78392885, 0.70953522, 0.70893515,\n",
       "       0.70383858, 0.69171231, 0.65827223, 0.65815455, 0.6328774 ,\n",
       "       0.61507221, 0.59185362, 0.58270197, 0.56195433, 0.45634391,\n",
       "       0.44586236, 0.43420623, 0.42541646, 0.40000854, 0.38965335,\n",
       "       0.37685259, 0.34124274, 0.33589994, 0.33022659, 0.31099479,\n",
       "       0.30678806, 0.28387373, 0.28349079, 0.26883334, 0.26518084,\n",
       "       0.26162473, 0.24998782, 0.23538641, 0.23411472, 0.19963748,\n",
       "       0.19703392, 0.17849095, 0.17404365, 0.14127602, 0.14114213,\n",
       "       0.14049181, 0.13115391, 0.13113496, 0.12318786, 0.11840717,\n",
       "       0.11553815, 0.11013742, 0.10930107, 0.1062762 , 0.09672724,\n",
       "       0.09657493, 0.09653663, 0.09209289, 0.0900242 , 0.08988969,\n",
       "       0.08885878, 0.0801355 , 0.07969554, 0.07216341, 0.06876757,\n",
       "       0.035695  ])"
      ]
     },
     "execution_count": 25,
     "metadata": {},
     "output_type": "execute_result"
    }
   ],
   "source": [
    "th"
   ]
  },
  {
   "cell_type": "code",
   "execution_count": 26,
   "id": "18f50f6e",
   "metadata": {},
   "outputs": [],
   "source": [
    "random_proba = [0 for i in range(len(y_test))]"
   ]
  },
  {
   "cell_type": "code",
   "execution_count": 27,
   "id": "e95c46ab",
   "metadata": {},
   "outputs": [
    {
     "data": {
      "text/plain": [
       "[0,\n",
       " 0,\n",
       " 0,\n",
       " 0,\n",
       " 0,\n",
       " 0,\n",
       " 0,\n",
       " 0,\n",
       " 0,\n",
       " 0,\n",
       " 0,\n",
       " 0,\n",
       " 0,\n",
       " 0,\n",
       " 0,\n",
       " 0,\n",
       " 0,\n",
       " 0,\n",
       " 0,\n",
       " 0,\n",
       " 0,\n",
       " 0,\n",
       " 0,\n",
       " 0,\n",
       " 0,\n",
       " 0,\n",
       " 0,\n",
       " 0,\n",
       " 0,\n",
       " 0,\n",
       " 0,\n",
       " 0,\n",
       " 0,\n",
       " 0,\n",
       " 0,\n",
       " 0,\n",
       " 0,\n",
       " 0,\n",
       " 0,\n",
       " 0,\n",
       " 0,\n",
       " 0,\n",
       " 0,\n",
       " 0,\n",
       " 0,\n",
       " 0,\n",
       " 0,\n",
       " 0,\n",
       " 0,\n",
       " 0,\n",
       " 0,\n",
       " 0,\n",
       " 0,\n",
       " 0,\n",
       " 0,\n",
       " 0,\n",
       " 0,\n",
       " 0,\n",
       " 0,\n",
       " 0,\n",
       " 0,\n",
       " 0,\n",
       " 0,\n",
       " 0,\n",
       " 0,\n",
       " 0,\n",
       " 0,\n",
       " 0,\n",
       " 0,\n",
       " 0,\n",
       " 0,\n",
       " 0,\n",
       " 0,\n",
       " 0,\n",
       " 0,\n",
       " 0,\n",
       " 0,\n",
       " 0,\n",
       " 0,\n",
       " 0,\n",
       " 0,\n",
       " 0,\n",
       " 0,\n",
       " 0,\n",
       " 0,\n",
       " 0,\n",
       " 0,\n",
       " 0,\n",
       " 0,\n",
       " 0,\n",
       " 0,\n",
       " 0,\n",
       " 0,\n",
       " 0,\n",
       " 0,\n",
       " 0,\n",
       " 0,\n",
       " 0,\n",
       " 0,\n",
       " 0,\n",
       " 0,\n",
       " 0,\n",
       " 0,\n",
       " 0,\n",
       " 0,\n",
       " 0,\n",
       " 0,\n",
       " 0,\n",
       " 0,\n",
       " 0,\n",
       " 0,\n",
       " 0,\n",
       " 0,\n",
       " 0,\n",
       " 0,\n",
       " 0,\n",
       " 0,\n",
       " 0,\n",
       " 0,\n",
       " 0,\n",
       " 0,\n",
       " 0,\n",
       " 0,\n",
       " 0,\n",
       " 0,\n",
       " 0,\n",
       " 0,\n",
       " 0,\n",
       " 0,\n",
       " 0,\n",
       " 0,\n",
       " 0,\n",
       " 0,\n",
       " 0,\n",
       " 0,\n",
       " 0,\n",
       " 0,\n",
       " 0,\n",
       " 0,\n",
       " 0,\n",
       " 0,\n",
       " 0,\n",
       " 0,\n",
       " 0,\n",
       " 0,\n",
       " 0,\n",
       " 0,\n",
       " 0,\n",
       " 0,\n",
       " 0,\n",
       " 0,\n",
       " 0,\n",
       " 0,\n",
       " 0,\n",
       " 0,\n",
       " 0,\n",
       " 0,\n",
       " 0,\n",
       " 0,\n",
       " 0,\n",
       " 0,\n",
       " 0,\n",
       " 0,\n",
       " 0,\n",
       " 0,\n",
       " 0,\n",
       " 0,\n",
       " 0,\n",
       " 0,\n",
       " 0,\n",
       " 0,\n",
       " 0,\n",
       " 0,\n",
       " 0,\n",
       " 0,\n",
       " 0,\n",
       " 0,\n",
       " 0]"
      ]
     },
     "execution_count": 27,
     "metadata": {},
     "output_type": "execute_result"
    }
   ],
   "source": [
    "random_proba"
   ]
  },
  {
   "cell_type": "code",
   "execution_count": 28,
   "id": "5880b22a",
   "metadata": {},
   "outputs": [],
   "source": [
    "p_fpr, p_tpr, p_th = roc_curve(y_test, random_proba, pos_label=1)"
   ]
  },
  {
   "cell_type": "code",
   "execution_count": 29,
   "id": "7741c5ee",
   "metadata": {},
   "outputs": [
    {
     "name": "stdout",
     "output_type": "stream",
     "text": [
      "FPR [0. 1.]\n",
      "TPR [0. 1.]\n",
      "Threshold [1 0]\n"
     ]
    }
   ],
   "source": [
    "print(\"FPR\", p_fpr)\n",
    "print(\"TPR\", p_tpr)\n",
    "print(\"Threshold\", p_th)"
   ]
  },
  {
   "cell_type": "code",
   "execution_count": 30,
   "id": "bb791113",
   "metadata": {},
   "outputs": [],
   "source": [
    "auc_score = roc_auc_score(y_test, y_pred[:,1])"
   ]
  },
  {
   "cell_type": "code",
   "execution_count": 31,
   "id": "aa75cbe8",
   "metadata": {},
   "outputs": [
    {
     "data": {
      "text/plain": [
       "0.8512700534759359"
      ]
     },
     "execution_count": 31,
     "metadata": {},
     "output_type": "execute_result"
    }
   ],
   "source": [
    "auc_score"
   ]
  },
  {
   "cell_type": "code",
   "execution_count": 32,
   "id": "34067d2c",
   "metadata": {},
   "outputs": [
    {
     "data": {
      "image/png": "[encoded data removed]",
      "text/plain": [
       "<Figure size 640x480 with 1 Axes>"
      ]
     },
     "metadata": {},
     "output_type": "display_data"
    }
   ],
   "source": [
    "plt.plot(fpr, tpr, \"r--\")\n",
    "plt.plot(p_fpr, p_tpr, \"g--\")\n",
    "plt.show()"
   ]
  },
  {
   "cell_type": "code",
   "execution_count": null,
   "id": "10e6742c",
   "metadata": {},
   "outputs": [],
   "source": []
  }
 ],
 "metadata": {
  "kernelspec": {
   "display_name": "Python 3 (ipykernel)",
   "language": "python",
   "name": "python3"
  },
  "language_info": {
   "codemirror_mode": {
    "name": "ipython",
    "version": 3
   },
   "file_extension": ".py",
   "mimetype": "text/x-python",
   "name": "python",
   "nbconvert_exporter": "python",
   "pygments_lexer": "ipython3",
   "version": "3.9.13"
  }
 },
 "nbformat": 4,
 "nbformat_minor": 5
}
